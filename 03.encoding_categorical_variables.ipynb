{
 "cells": [
  {
   "cell_type": "markdown",
   "metadata": {},
   "source": [
    "# Encoding categorical variables"
   ]
  },
  {
   "cell_type": "markdown",
   "metadata": {},
   "source": [
    "## Categorical dataset"
   ]
  },
  {
   "cell_type": "markdown",
   "metadata": {},
   "source": [
    "**Import of the libraries useful for the analysis**"
   ]
  },
  {
   "cell_type": "code",
   "execution_count": 1,
   "metadata": {},
   "outputs": [],
   "source": [
    "# pandas -> read input file and data manipulation\n",
    "import pandas as pd\n",
    "pd.set_option(\"float_format\", \"{:.2f}\".format)\n",
    "\n",
    "# numpy -> array manipulations\n",
    "import numpy as np\n",
    "np.set_printoptions(suppress=True)\n",
    "\n",
    "# scikit-learn variables encoding\n",
    "from sklearn.preprocessing import OrdinalEncoder, OneHotEncoder, MinMaxScaler, LabelEncoder\n",
    "from sklearn.compose import ColumnTransformer, make_column_transformer\n",
    "from sklearn.impute import SimpleImputer\n",
    "\n",
    "# show sklearn objects in diagram\n",
    "from sklearn import set_config\n",
    "set_config(print_changed_only=False, display=\"diagram\")\n",
    "\n",
    "# warnings -> to silence warnings\n",
    "from warnings import filterwarnings\n",
    "filterwarnings(\"ignore\")"
   ]
  },
  {
   "cell_type": "markdown",
   "metadata": {},
   "source": [
    "### Encoding categorical variables\n",
    "Until now, we faced only numerical values in our analysis, but is very common to have categorical variables in the data. This kind of data describes a trait or an event using a string of words rather than numbers. Since machine lerning models can interpretate only numerical values, we need to process this kind of data for feeding to many estimators."
   ]
  },
  {
   "cell_type": "code",
   "execution_count": 2,
   "metadata": {},
   "outputs": [],
   "source": [
    "df = pd.read_csv(filepath_or_buffer=\"data/categorical.csv\")"
   ]
  },
  {
   "cell_type": "markdown",
   "metadata": {},
   "source": [
    "**Show the first 10 rows**  \n",
    "There are only categorical values (type ```object```)"
   ]
  },
  {
   "cell_type": "code",
   "execution_count": 3,
   "metadata": {
    "scrolled": true
   },
   "outputs": [
    {
     "data": {
      "text/html": [
       "<div>\n",
       "<style scoped>\n",
       "    .dataframe tbody tr th:only-of-type {\n",
       "        vertical-align: middle;\n",
       "    }\n",
       "\n",
       "    .dataframe tbody tr th {\n",
       "        vertical-align: top;\n",
       "    }\n",
       "\n",
       "    .dataframe thead th {\n",
       "        text-align: right;\n",
       "    }\n",
       "</style>\n",
       "<table border=\"1\" class=\"dataframe\">\n",
       "  <thead>\n",
       "    <tr style=\"text-align: right;\">\n",
       "      <th></th>\n",
       "      <th>Gender</th>\n",
       "      <th>Student</th>\n",
       "      <th>Married</th>\n",
       "      <th>Ethnicity</th>\n",
       "      <th>Rating</th>\n",
       "    </tr>\n",
       "  </thead>\n",
       "  <tbody>\n",
       "    <tr>\n",
       "      <th>0</th>\n",
       "      <td>Male</td>\n",
       "      <td>No</td>\n",
       "      <td>Yes</td>\n",
       "      <td>Caucasian</td>\n",
       "      <td>Low</td>\n",
       "    </tr>\n",
       "    <tr>\n",
       "      <th>1</th>\n",
       "      <td>Female</td>\n",
       "      <td>Yes</td>\n",
       "      <td>Yes</td>\n",
       "      <td>Asian</td>\n",
       "      <td>Premium</td>\n",
       "    </tr>\n",
       "    <tr>\n",
       "      <th>2</th>\n",
       "      <td>Male</td>\n",
       "      <td>No</td>\n",
       "      <td>No</td>\n",
       "      <td>Asian</td>\n",
       "      <td>Premium</td>\n",
       "    </tr>\n",
       "    <tr>\n",
       "      <th>3</th>\n",
       "      <td>Female</td>\n",
       "      <td>No</td>\n",
       "      <td>No</td>\n",
       "      <td>Asian</td>\n",
       "      <td>Premium</td>\n",
       "    </tr>\n",
       "    <tr>\n",
       "      <th>4</th>\n",
       "      <td>Male</td>\n",
       "      <td>No</td>\n",
       "      <td>Yes</td>\n",
       "      <td>Caucasian</td>\n",
       "      <td>Medium</td>\n",
       "    </tr>\n",
       "    <tr>\n",
       "      <th>5</th>\n",
       "      <td>Male</td>\n",
       "      <td>No</td>\n",
       "      <td>No</td>\n",
       "      <td>Caucasian</td>\n",
       "      <td>Premium</td>\n",
       "    </tr>\n",
       "    <tr>\n",
       "      <th>6</th>\n",
       "      <td>Female</td>\n",
       "      <td>No</td>\n",
       "      <td>No</td>\n",
       "      <td>African American</td>\n",
       "      <td>Low</td>\n",
       "    </tr>\n",
       "    <tr>\n",
       "      <th>7</th>\n",
       "      <td>Male</td>\n",
       "      <td>No</td>\n",
       "      <td>No</td>\n",
       "      <td>Asian</td>\n",
       "      <td>Premium</td>\n",
       "    </tr>\n",
       "    <tr>\n",
       "      <th>8</th>\n",
       "      <td>Female</td>\n",
       "      <td>No</td>\n",
       "      <td>No</td>\n",
       "      <td>Caucasian</td>\n",
       "      <td>Low</td>\n",
       "    </tr>\n",
       "    <tr>\n",
       "      <th>9</th>\n",
       "      <td>Female</td>\n",
       "      <td>Yes</td>\n",
       "      <td>Yes</td>\n",
       "      <td>African American</td>\n",
       "      <td>Premium</td>\n",
       "    </tr>\n",
       "  </tbody>\n",
       "</table>\n",
       "</div>"
      ],
      "text/plain": [
       "   Gender Student Married         Ethnicity   Rating\n",
       "0    Male      No     Yes         Caucasian      Low\n",
       "1  Female     Yes     Yes             Asian  Premium\n",
       "2    Male      No      No             Asian  Premium\n",
       "3  Female      No      No             Asian  Premium\n",
       "4    Male      No     Yes         Caucasian   Medium\n",
       "5    Male      No      No         Caucasian  Premium\n",
       "6  Female      No      No  African American      Low\n",
       "7    Male      No      No             Asian  Premium\n",
       "8  Female      No      No         Caucasian      Low\n",
       "9  Female     Yes     Yes  African American  Premium"
      ]
     },
     "execution_count": 3,
     "metadata": {},
     "output_type": "execute_result"
    }
   ],
   "source": [
    "df.head(10)"
   ]
  },
  {
   "cell_type": "markdown",
   "metadata": {},
   "source": [
    "**To deal with categorical variables, we have first to inspect about their meaning and structure, we can have:**\n",
    "* **binary variables**: can have exactly two values (categories)\n",
    "* **polytomous variables**: have more than two possible categories\n",
    ">* **nominal variables**: there is no intrinsic ordering to the categories\n",
    ">* **ordinal variables**: there is a clear ordering of the variables"
   ]
  },
  {
   "cell_type": "markdown",
   "metadata": {},
   "source": [
    "### Binary variables\n",
    "This kind of categories can be easily encoded creating a dummy variable for each category, that indicates with a value of zero or one the absence or presence of the attribute. This technique il called one hot encoding and is valid for binary and nominal variables.  \n",
    "We can see a practical example using the variable ```Gender``` of the dataset, that can have only two values: _'Female'_ or _'Male'_.  \n",
    "\n",
    "The objective is to make a trasformation of the variable in order to obtain the following result:  \n",
    "\n",
    "\n",
    "|    | Gender   |   Gender_Male |\n",
    "|---:|:---------|--------------:|\n",
    "|  0 | Male     |             1 |\n",
    "|  1 | Female   |             0 |\n",
    "|  2 | Male     |             1 |\n",
    "|  3 | Female   |             0 |\n",
    "|  4 | Male     |             1 |"
   ]
  },
  {
   "cell_type": "markdown",
   "metadata": {},
   "source": [
    "**Definition of the variable gender containing the values to encode**"
   ]
  },
  {
   "cell_type": "code",
   "execution_count": 4,
   "metadata": {},
   "outputs": [],
   "source": [
    "gender = df[[\"Gender\"]].values"
   ]
  },
  {
   "cell_type": "markdown",
   "metadata": {},
   "source": [
    "**Encode binary categorical variables using scikit-learn**  \n",
    "The operation of encoding this kind of variable can be done using the ```OneHotEncoder``` class object.  \n",
    "documentation: https://scikit-learn.org/stable/modules/generated/sklearn.preprocessing.OneHotEncoder.html"
   ]
  },
  {
   "cell_type": "markdown",
   "metadata": {},
   "source": [
    "**Definition of the encoder**"
   ]
  },
  {
   "cell_type": "code",
   "execution_count": 5,
   "metadata": {},
   "outputs": [],
   "source": [
    "ohe = OneHotEncoder(sparse=False, dtype=int)"
   ]
  },
  {
   "cell_type": "markdown",
   "metadata": {},
   "source": [
    "**Fit of the encoder to the data**  \n",
    "With this operation, the encoder read and sort the unique values in the variable and create a rule of conversion to numeric values."
   ]
  },
  {
   "cell_type": "code",
   "execution_count": 6,
   "metadata": {},
   "outputs": [
    {
     "data": {
      "text/html": [
       "<style>div.sk-top-container {color: black;background-color: white;}div.sk-toggleable {background-color: white;}label.sk-toggleable__label {cursor: pointer;display: block;width: 100%;margin-bottom: 0;padding: 0.2em 0.3em;box-sizing: border-box;text-align: center;}div.sk-toggleable__content {max-height: 0;max-width: 0;overflow: hidden;text-align: left;background-color: #f0f8ff;}div.sk-toggleable__content pre {margin: 0.2em;color: black;border-radius: 0.25em;background-color: #f0f8ff;}input.sk-toggleable__control:checked~div.sk-toggleable__content {max-height: 200px;max-width: 100%;overflow: auto;}div.sk-estimator input.sk-toggleable__control:checked~label.sk-toggleable__label {background-color: #d4ebff;}div.sk-label input.sk-toggleable__control:checked~label.sk-toggleable__label {background-color: #d4ebff;}input.sk-hidden--visually {border: 0;clip: rect(1px 1px 1px 1px);clip: rect(1px, 1px, 1px, 1px);height: 1px;margin: -1px;overflow: hidden;padding: 0;position: absolute;width: 1px;}div.sk-estimator {font-family: monospace;background-color: #f0f8ff;margin: 0.25em 0.25em;border: 1px dotted black;border-radius: 0.25em;box-sizing: border-box;}div.sk-estimator:hover {background-color: #d4ebff;}div.sk-parallel-item::after {content: \"\";width: 100%;border-bottom: 1px solid gray;flex-grow: 1;}div.sk-label:hover label.sk-toggleable__label {background-color: #d4ebff;}div.sk-serial::before {content: \"\";position: absolute;border-left: 1px solid gray;box-sizing: border-box;top: 2em;bottom: 0;left: 50%;}div.sk-serial {display: flex;flex-direction: column;align-items: center;background-color: white;}div.sk-item {z-index: 1;}div.sk-parallel {display: flex;align-items: stretch;justify-content: center;background-color: white;}div.sk-parallel-item {display: flex;flex-direction: column;position: relative;background-color: white;}div.sk-parallel-item:first-child::after {align-self: flex-end;width: 50%;}div.sk-parallel-item:last-child::after {align-self: flex-start;width: 50%;}div.sk-parallel-item:only-child::after {width: 0;}div.sk-dashed-wrapped {border: 1px dashed gray;margin: 0.2em;box-sizing: border-box;padding-bottom: 0.1em;background-color: white;position: relative;}div.sk-label label {font-family: monospace;font-weight: bold;background-color: white;display: inline-block;line-height: 1.2em;}div.sk-label-container {position: relative;z-index: 2;text-align: center;}div.sk-container {display: inline-block;position: relative;}</style><div class=\"sk-top-container\"><div class=\"sk-container\"><div class=\"sk-item\"><div class=\"sk-estimator sk-toggleable\"><input class=\"sk-toggleable__control sk-hidden--visually\" id=\"9d6b8fa1-298c-4569-84d8-f8957d1f0ebd\" type=\"checkbox\" checked><label class=\"sk-toggleable__label\" for=\"9d6b8fa1-298c-4569-84d8-f8957d1f0ebd\">OneHotEncoder</label><div class=\"sk-toggleable__content\"><pre>OneHotEncoder(categories='auto', drop=None, dtype=<class 'int'>,\n",
       "              handle_unknown='error', sparse=False)</pre></div></div></div></div></div>"
      ],
      "text/plain": [
       "OneHotEncoder(categories='auto', drop=None, dtype=<class 'int'>,\n",
       "              handle_unknown='error', sparse=False)"
      ]
     },
     "execution_count": 6,
     "metadata": {},
     "output_type": "execute_result"
    }
   ],
   "source": [
    "ohe.fit(X=gender)"
   ]
  },
  {
   "cell_type": "markdown",
   "metadata": {},
   "source": [
    "**Encoding of the categorical variable**  \n",
    "We use the method ```transform``` to make the encoding of the variable and assign the result to the ```gender_enc``` variable. The object returned by the method is a numpy array with 2 columns, for both female and male columns."
   ]
  },
  {
   "cell_type": "code",
   "execution_count": 7,
   "metadata": {},
   "outputs": [
    {
     "name": "stdout",
     "output_type": "stream",
     "text": [
      "gender encoded -> type object: <class 'numpy.ndarray'>, shape: (400, 2)\n"
     ]
    }
   ],
   "source": [
    "gender_enc = ohe.transform(X=gender)\n",
    "\n",
    "print(f\"gender encoded -> type object: {type(gender_enc)}, shape: {gender_enc.shape}\")"
   ]
  },
  {
   "cell_type": "markdown",
   "metadata": {},
   "source": [
    "**We can use the fitted encoder to obtain the original values from the encoded data**  \n",
    "To do this, we can use the method ```inverse_transform``` of the encoded object to the encoded data."
   ]
  },
  {
   "cell_type": "code",
   "execution_count": 8,
   "metadata": {},
   "outputs": [],
   "source": [
    "gender_inv = ohe.inverse_transform(X=gender_enc)"
   ]
  },
  {
   "cell_type": "markdown",
   "metadata": {},
   "source": [
    "**Comparing original, encoded data and inversed data**  \n",
    "As we can see from the results, the encoded variable contains two columns: the first column indicates with 1 or 0 the absence or presence of the Male value, while the second column is for the Female category. However, we know that one of the assumption of the model studied since now is the lack of perfect multicollinearity in the predictors, but now the encoded columns have this problem because every time that one column has a value, the other column's value changes."
   ]
  },
  {
   "cell_type": "code",
   "execution_count": 9,
   "metadata": {},
   "outputs": [
    {
     "name": "stdout",
     "output_type": "stream",
     "text": [
      "original \t encoded \t inversed\n",
      "['Male'] \t [0 1] \t\t ['Male']\n",
      "['Female'] \t [1 0] \t\t ['Female']\n",
      "['Male'] \t [0 1] \t\t ['Male']\n",
      "['Female'] \t [1 0] \t\t ['Female']\n",
      "['Male'] \t [0 1] \t\t ['Male']\n",
      "['Male'] \t [0 1] \t\t ['Male']\n",
      "['Female'] \t [1 0] \t\t ['Female']\n",
      "['Male'] \t [0 1] \t\t ['Male']\n",
      "['Female'] \t [1 0] \t\t ['Female']\n",
      "['Female'] \t [1 0] \t\t ['Female']\n"
     ]
    }
   ],
   "source": [
    "print(\"original \\t encoded \\t inversed\")\n",
    "\n",
    "for original, encoded, inversed in zip(gender[:10, :], gender_enc[:10, :], gender_inv[:10, :]):\n",
    "    print(f\"{original} \\t {encoded} \\t\\t {inversed}\")"
   ]
  },
  {
   "cell_type": "markdown",
   "metadata": {},
   "source": [
    "**Face the multicollinearity problem**  \n",
    "To face this problem, we can drop one of the two columns created by the encoder. To make this operation in semplicity, we can instance the encoder setting the attribute ```drop=\"first\"```.  \n",
    "Perform this operation have two beneficts:\n",
    "* avoid the multicollinearity problem\n",
    "* have an array one size smaller\n",
    "\n",
    "As we can see from the operation below, the array contains only the dummy variable for Male category."
   ]
  },
  {
   "cell_type": "code",
   "execution_count": 10,
   "metadata": {},
   "outputs": [
    {
     "name": "stdout",
     "output_type": "stream",
     "text": [
      "['x0_Male']\n",
      "[[1]\n",
      " [0]\n",
      " [1]\n",
      " [0]\n",
      " [1]\n",
      " [1]\n",
      " [0]\n",
      " [1]\n",
      " [0]\n",
      " [0]]\n"
     ]
    }
   ],
   "source": [
    "ohe = OneHotEncoder(drop=\"first\", sparse=False, dtype=int)\n",
    "gender_enc = ohe.fit_transform(X=gender)\n",
    "print(ohe.get_feature_names())\n",
    "print(gender_enc[:10, :])"
   ]
  },
  {
   "cell_type": "markdown",
   "metadata": {},
   "source": [
    "### Nominal variables\n",
    "The nominal variables are traited with the same technique saw before for binary variables, the main difference is that the encoder creates *n-1* dummy variables from the original variable with *n* categories. We can see a practical example using the variable Ethnicity of the dataset, that can have only three values: 'African American', 'Asian' and 'Caucasian'.  \n",
    "\n",
    "The objective is to make a trasformation of the variable in order to obtain the following result:  \n",
    "\n",
    "\n",
    "|    | Ethnicity   |   Ethnicity_Asian |   Ethnicity_Caucasian |\n",
    "|---:|:------------|------------------:|----------------------:|\n",
    "|  0 | Caucasian   |                 0 |                     1 |\n",
    "|  1 | Asian       |                 1 |                     0 |\n",
    "|  2 | Asian       |                 1 |                     0 |\n",
    "|  3 | Asian       |                 1 |                     0 |\n",
    "|  4 | Caucasian   |                 0 |                     1 |"
   ]
  },
  {
   "cell_type": "markdown",
   "metadata": {},
   "source": [
    "**Definition of the variable ethnicity containing the values to encode**"
   ]
  },
  {
   "cell_type": "code",
   "execution_count": 11,
   "metadata": {},
   "outputs": [],
   "source": [
    "ethnicity = df[[\"Ethnicity\"]].values"
   ]
  },
  {
   "cell_type": "markdown",
   "metadata": {},
   "source": [
    "**Definition of the encoder and fit-transform of the variable**"
   ]
  },
  {
   "cell_type": "code",
   "execution_count": 12,
   "metadata": {},
   "outputs": [],
   "source": [
    "ohe = OneHotEncoder(drop=\"first\", sparse=False, dtype=int)\n",
    "ethnicity_enc = ohe.fit_transform(X=ethnicity)"
   ]
  },
  {
   "cell_type": "markdown",
   "metadata": {},
   "source": [
    "**Comparing original, encoded data and inversed data**  \n",
    "As we can see from the results, the encoded variable contains two columns: the first column indicates with 1 or 0 the absence or presence of the Asian value, while the second column is for the Caucasian category. The presence of the attribute African American can be obtained by the linear combination of the other two column: in practise the value is present where the first two columns have a value of 0. "
   ]
  },
  {
   "cell_type": "code",
   "execution_count": 13,
   "metadata": {},
   "outputs": [
    {
     "name": "stdout",
     "output_type": "stream",
     "text": [
      "original \t\t\t encoded\n",
      "['Caucasian'] \t\t\t [0 1]\n",
      "['Asian'] \t\t\t [1 0]\n",
      "['Asian'] \t\t\t [1 0]\n",
      "['Asian'] \t\t\t [1 0]\n",
      "['Caucasian'] \t\t\t [0 1]\n",
      "['Caucasian'] \t\t\t [0 1]\n",
      "['African American'] \t\t\t [0 0]\n",
      "['Asian'] \t\t\t [1 0]\n",
      "['Caucasian'] \t\t\t [0 1]\n",
      "['African American'] \t\t\t [0 0]\n"
     ]
    }
   ],
   "source": [
    "print(\"original \\t\\t\\t encoded\")\n",
    "\n",
    "for original, encoded in zip(ethnicity[:10, :], ethnicity_enc[:10, :]):\n",
    "    print(f\"{original} \\t\\t\\t {encoded}\")"
   ]
  },
  {
   "cell_type": "markdown",
   "metadata": {},
   "source": [
    "**Encode binary and nominal categorical variables using pandas**  \n",
    "It's possibile to perform the same operations seen above using the function ```get_dummies``` of pandas, indicating the dataframe and the columns to transform. The use of this function is very useful if we want to encode the categorical columns and maintain the pandas dataframe structure, but we have to remember that operating in the whole dataset could lead to data leakage phenomena.  \n",
    "\n",
    "Definition of the function:\n",
    "```python \n",
    "pandas.get_dummies(\n",
    "    data,\n",
    "    prefix=None,\n",
    "    prefix_sep='_',\n",
    "    dummy_na=False,\n",
    "    columns=None,\n",
    "    sparse=False,\n",
    "    drop_first=False,\n",
    "    dtype=None,\n",
    ") -> 'DataFrame'\n",
    "```"
   ]
  },
  {
   "cell_type": "code",
   "execution_count": 14,
   "metadata": {},
   "outputs": [
    {
     "data": {
      "text/html": [
       "<div>\n",
       "<style scoped>\n",
       "    .dataframe tbody tr th:only-of-type {\n",
       "        vertical-align: middle;\n",
       "    }\n",
       "\n",
       "    .dataframe tbody tr th {\n",
       "        vertical-align: top;\n",
       "    }\n",
       "\n",
       "    .dataframe thead th {\n",
       "        text-align: right;\n",
       "    }\n",
       "</style>\n",
       "<table border=\"1\" class=\"dataframe\">\n",
       "  <thead>\n",
       "    <tr style=\"text-align: right;\">\n",
       "      <th></th>\n",
       "      <th>Rating</th>\n",
       "      <th>Gender_Male</th>\n",
       "      <th>Student_Yes</th>\n",
       "      <th>Married_Yes</th>\n",
       "      <th>Ethnicity_Asian</th>\n",
       "      <th>Ethnicity_Caucasian</th>\n",
       "    </tr>\n",
       "  </thead>\n",
       "  <tbody>\n",
       "    <tr>\n",
       "      <th>0</th>\n",
       "      <td>Low</td>\n",
       "      <td>1</td>\n",
       "      <td>0</td>\n",
       "      <td>1</td>\n",
       "      <td>0</td>\n",
       "      <td>1</td>\n",
       "    </tr>\n",
       "    <tr>\n",
       "      <th>1</th>\n",
       "      <td>Premium</td>\n",
       "      <td>0</td>\n",
       "      <td>1</td>\n",
       "      <td>1</td>\n",
       "      <td>1</td>\n",
       "      <td>0</td>\n",
       "    </tr>\n",
       "    <tr>\n",
       "      <th>2</th>\n",
       "      <td>Premium</td>\n",
       "      <td>1</td>\n",
       "      <td>0</td>\n",
       "      <td>0</td>\n",
       "      <td>1</td>\n",
       "      <td>0</td>\n",
       "    </tr>\n",
       "    <tr>\n",
       "      <th>3</th>\n",
       "      <td>Premium</td>\n",
       "      <td>0</td>\n",
       "      <td>0</td>\n",
       "      <td>0</td>\n",
       "      <td>1</td>\n",
       "      <td>0</td>\n",
       "    </tr>\n",
       "    <tr>\n",
       "      <th>4</th>\n",
       "      <td>Medium</td>\n",
       "      <td>1</td>\n",
       "      <td>0</td>\n",
       "      <td>1</td>\n",
       "      <td>0</td>\n",
       "      <td>1</td>\n",
       "    </tr>\n",
       "    <tr>\n",
       "      <th>...</th>\n",
       "      <td>...</td>\n",
       "      <td>...</td>\n",
       "      <td>...</td>\n",
       "      <td>...</td>\n",
       "      <td>...</td>\n",
       "      <td>...</td>\n",
       "    </tr>\n",
       "    <tr>\n",
       "      <th>395</th>\n",
       "      <td>Medium</td>\n",
       "      <td>1</td>\n",
       "      <td>0</td>\n",
       "      <td>1</td>\n",
       "      <td>0</td>\n",
       "      <td>1</td>\n",
       "    </tr>\n",
       "    <tr>\n",
       "      <th>396</th>\n",
       "      <td>Low</td>\n",
       "      <td>1</td>\n",
       "      <td>0</td>\n",
       "      <td>0</td>\n",
       "      <td>0</td>\n",
       "      <td>0</td>\n",
       "    </tr>\n",
       "    <tr>\n",
       "      <th>397</th>\n",
       "      <td>Medium</td>\n",
       "      <td>0</td>\n",
       "      <td>0</td>\n",
       "      <td>1</td>\n",
       "      <td>0</td>\n",
       "      <td>1</td>\n",
       "    </tr>\n",
       "    <tr>\n",
       "      <th>398</th>\n",
       "      <td>Very low</td>\n",
       "      <td>1</td>\n",
       "      <td>0</td>\n",
       "      <td>1</td>\n",
       "      <td>0</td>\n",
       "      <td>1</td>\n",
       "    </tr>\n",
       "    <tr>\n",
       "      <th>399</th>\n",
       "      <td>High</td>\n",
       "      <td>0</td>\n",
       "      <td>0</td>\n",
       "      <td>0</td>\n",
       "      <td>1</td>\n",
       "      <td>0</td>\n",
       "    </tr>\n",
       "  </tbody>\n",
       "</table>\n",
       "<p>400 rows × 6 columns</p>\n",
       "</div>"
      ],
      "text/plain": [
       "       Rating  Gender_Male  Student_Yes  Married_Yes  Ethnicity_Asian  \\\n",
       "0         Low            1            0            1                0   \n",
       "1     Premium            0            1            1                1   \n",
       "2     Premium            1            0            0                1   \n",
       "3     Premium            0            0            0                1   \n",
       "4      Medium            1            0            1                0   \n",
       "..        ...          ...          ...          ...              ...   \n",
       "395    Medium            1            0            1                0   \n",
       "396       Low            1            0            0                0   \n",
       "397    Medium            0            0            1                0   \n",
       "398  Very low            1            0            1                0   \n",
       "399      High            0            0            0                1   \n",
       "\n",
       "     Ethnicity_Caucasian  \n",
       "0                      1  \n",
       "1                      0  \n",
       "2                      0  \n",
       "3                      0  \n",
       "4                      1  \n",
       "..                   ...  \n",
       "395                    1  \n",
       "396                    0  \n",
       "397                    1  \n",
       "398                    1  \n",
       "399                    0  \n",
       "\n",
       "[400 rows x 6 columns]"
      ]
     },
     "execution_count": 14,
     "metadata": {},
     "output_type": "execute_result"
    }
   ],
   "source": [
    "df_enc = pd.get_dummies(data=df, columns=[\"Gender\", \"Student\", \"Married\", \"Ethnicity\"], drop_first=True)\n",
    "\n",
    "df_enc"
   ]
  },
  {
   "cell_type": "markdown",
   "metadata": {},
   "source": [
    "### Ordinal variables  \n",
    "The ordinal categories are one the most easy to encode because they have a logical order that can be used to map numerically the categories. The advantage of this kind of variables is that we can encode various categories in only one dimension without lose information.  \n",
    "\n",
    "The objective is to make a trasformation of the variable in order to obtain the following result:  \n",
    "\n",
    "|    | Rating   |   Rating Encoded |\n",
    "|---:|:---------|-----------------:|\n",
    "|  0 | Low      |                1 |\n",
    "|  1 | Premium  |                4 |\n",
    "|  2 | Premium  |                4 |\n",
    "|  3 | Premium  |                4 |\n",
    "|  4 | Medium   |                2 |"
   ]
  },
  {
   "cell_type": "markdown",
   "metadata": {},
   "source": [
    "**Definition of the variable rating containing the values to encode**"
   ]
  },
  {
   "cell_type": "code",
   "execution_count": 15,
   "metadata": {},
   "outputs": [],
   "source": [
    "rating = df[[\"Rating\"]].values"
   ]
  },
  {
   "cell_type": "markdown",
   "metadata": {},
   "source": [
    "**Check the order of the categories**  \n",
    "The alphabetical order of the categories does not follow the logical order."
   ]
  },
  {
   "cell_type": "code",
   "execution_count": 16,
   "metadata": {},
   "outputs": [
    {
     "name": "stdout",
     "output_type": "stream",
     "text": [
      "['High' 'Low' 'Medium' 'Premium' 'Very low']\n"
     ]
    }
   ],
   "source": [
    "print(np.unique(ar=rating))"
   ]
  },
  {
   "cell_type": "markdown",
   "metadata": {},
   "source": [
    "**Encode ordinal categorical variables using scikit-learn**  \n",
    "The operation of encoding this kind of variable can be done using the ```OrdinalEncoder``` class object, that encode the variable make an alphabetical sorting of the categories, this means that if the categories does not follow this kind of logic, the encoding might be wrong. To perform the operation of encoding, we instance the encoder object using the data with custom sorting and assign to the parameter ```categories```.  \n",
    "\n",
    "Documentation: https://scikit-learn.org/stable/modules/generated/sklearn.preprocessing.OrdinalEncoder.html"
   ]
  },
  {
   "cell_type": "markdown",
   "metadata": {},
   "source": [
    "**Definition of the encoder**"
   ]
  },
  {
   "cell_type": "code",
   "execution_count": 17,
   "metadata": {},
   "outputs": [
    {
     "data": {
      "text/html": [
       "<style>div.sk-top-container {color: black;background-color: white;}div.sk-toggleable {background-color: white;}label.sk-toggleable__label {cursor: pointer;display: block;width: 100%;margin-bottom: 0;padding: 0.2em 0.3em;box-sizing: border-box;text-align: center;}div.sk-toggleable__content {max-height: 0;max-width: 0;overflow: hidden;text-align: left;background-color: #f0f8ff;}div.sk-toggleable__content pre {margin: 0.2em;color: black;border-radius: 0.25em;background-color: #f0f8ff;}input.sk-toggleable__control:checked~div.sk-toggleable__content {max-height: 200px;max-width: 100%;overflow: auto;}div.sk-estimator input.sk-toggleable__control:checked~label.sk-toggleable__label {background-color: #d4ebff;}div.sk-label input.sk-toggleable__control:checked~label.sk-toggleable__label {background-color: #d4ebff;}input.sk-hidden--visually {border: 0;clip: rect(1px 1px 1px 1px);clip: rect(1px, 1px, 1px, 1px);height: 1px;margin: -1px;overflow: hidden;padding: 0;position: absolute;width: 1px;}div.sk-estimator {font-family: monospace;background-color: #f0f8ff;margin: 0.25em 0.25em;border: 1px dotted black;border-radius: 0.25em;box-sizing: border-box;}div.sk-estimator:hover {background-color: #d4ebff;}div.sk-parallel-item::after {content: \"\";width: 100%;border-bottom: 1px solid gray;flex-grow: 1;}div.sk-label:hover label.sk-toggleable__label {background-color: #d4ebff;}div.sk-serial::before {content: \"\";position: absolute;border-left: 1px solid gray;box-sizing: border-box;top: 2em;bottom: 0;left: 50%;}div.sk-serial {display: flex;flex-direction: column;align-items: center;background-color: white;}div.sk-item {z-index: 1;}div.sk-parallel {display: flex;align-items: stretch;justify-content: center;background-color: white;}div.sk-parallel-item {display: flex;flex-direction: column;position: relative;background-color: white;}div.sk-parallel-item:first-child::after {align-self: flex-end;width: 50%;}div.sk-parallel-item:last-child::after {align-self: flex-start;width: 50%;}div.sk-parallel-item:only-child::after {width: 0;}div.sk-dashed-wrapped {border: 1px dashed gray;margin: 0.2em;box-sizing: border-box;padding-bottom: 0.1em;background-color: white;position: relative;}div.sk-label label {font-family: monospace;font-weight: bold;background-color: white;display: inline-block;line-height: 1.2em;}div.sk-label-container {position: relative;z-index: 2;text-align: center;}div.sk-container {display: inline-block;position: relative;}</style><div class=\"sk-top-container\"><div class=\"sk-container\"><div class=\"sk-item\"><div class=\"sk-estimator sk-toggleable\"><input class=\"sk-toggleable__control sk-hidden--visually\" id=\"e086fbc1-5c1a-482d-bf41-bd2370ed3552\" type=\"checkbox\" checked><label class=\"sk-toggleable__label\" for=\"e086fbc1-5c1a-482d-bf41-bd2370ed3552\">OrdinalEncoder</label><div class=\"sk-toggleable__content\"><pre>OrdinalEncoder(categories=[['Very low', 'Low', 'Medium', 'High', 'Premium']],\n",
       "               dtype=<class 'int'>, handle_unknown='error', unknown_value=None)</pre></div></div></div></div></div>"
      ],
      "text/plain": [
       "OrdinalEncoder(categories=[['Very low', 'Low', 'Medium', 'High', 'Premium']],\n",
       "               dtype=<class 'int'>, handle_unknown='error', unknown_value=None)"
      ]
     },
     "execution_count": 17,
     "metadata": {},
     "output_type": "execute_result"
    }
   ],
   "source": [
    "categories = [['Very low', 'Low', 'Medium', 'High', 'Premium']]\n",
    "\n",
    "oe = OrdinalEncoder(categories=categories, dtype=int)\n",
    "oe"
   ]
  },
  {
   "cell_type": "markdown",
   "metadata": {},
   "source": [
    "**Fit and transform of the encoder to the data**"
   ]
  },
  {
   "cell_type": "code",
   "execution_count": 18,
   "metadata": {},
   "outputs": [],
   "source": [
    "rating_enc = oe.fit_transform(X=rating)"
   ]
  },
  {
   "cell_type": "markdown",
   "metadata": {},
   "source": [
    "**We can check if the categories follow the desider order calling the ```categories_``` encoder attribute**"
   ]
  },
  {
   "cell_type": "code",
   "execution_count": 19,
   "metadata": {},
   "outputs": [
    {
     "name": "stdout",
     "output_type": "stream",
     "text": [
      "[array(['Very low', 'Low', 'Medium', 'High', 'Premium'], dtype=object)]\n"
     ]
    }
   ],
   "source": [
    "print(oe.categories_)"
   ]
  },
  {
   "cell_type": "markdown",
   "metadata": {},
   "source": [
    "**We can use the fitted encoder to obtain the original values from the encoded data**  \n",
    "To do this, we can use the method ```inverse_transform``` of the encoded object to the encoded data."
   ]
  },
  {
   "cell_type": "code",
   "execution_count": 20,
   "metadata": {},
   "outputs": [],
   "source": [
    "rating_inv = oe.inverse_transform(rating_enc)"
   ]
  },
  {
   "cell_type": "markdown",
   "metadata": {},
   "source": [
    "**Compare original, encoded and inversed data**"
   ]
  },
  {
   "cell_type": "code",
   "execution_count": 21,
   "metadata": {},
   "outputs": [
    {
     "name": "stdout",
     "output_type": "stream",
     "text": [
      "original \t encoded \t inversed\n",
      "['Low'] \t [1] \t\t ['Low']\n",
      "['Premium'] \t [4] \t\t ['Premium']\n",
      "['Premium'] \t [4] \t\t ['Premium']\n",
      "['Premium'] \t [4] \t\t ['Premium']\n",
      "['Medium'] \t [2] \t\t ['Medium']\n",
      "['Premium'] \t [4] \t\t ['Premium']\n",
      "['Low'] \t [1] \t\t ['Low']\n",
      "['Premium'] \t [4] \t\t ['Premium']\n",
      "['Low'] \t [1] \t\t ['Low']\n",
      "['Premium'] \t [4] \t\t ['Premium']\n"
     ]
    }
   ],
   "source": [
    "print(\"original \\t encoded \\t inversed\")\n",
    "\n",
    "for original, encoded, inversed in zip(rating[:10, :], rating_enc[:10, :], rating_inv[:10, :]):\n",
    "    print(f\"{original} \\t {encoded} \\t\\t {inversed}\")"
   ]
  },
  {
   "cell_type": "markdown",
   "metadata": {},
   "source": [
    "**Encode ordinal categorical variables using pandas**  \n",
    "In pandas there is not a specific method to manipulate the ordinal categorical variables. It's possibile to perform this operation creating a conversion dictionary and apply the encoding to the variable with the ```map``` function."
   ]
  },
  {
   "cell_type": "code",
   "execution_count": 22,
   "metadata": {},
   "outputs": [],
   "source": [
    "map_rating = {\n",
    "    'Very low': 0, \n",
    "    'Low': 1,\n",
    "    'Medium': 2,\n",
    "    'High': 3,\n",
    "    'Premium': 4\n",
    "}\n",
    "\n",
    "df_enc[\"Rating\"] = df_enc[\"Rating\"].map(map_rating)"
   ]
  },
  {
   "cell_type": "markdown",
   "metadata": {},
   "source": [
    "**Show the pandas dataframe completely encoded**"
   ]
  },
  {
   "cell_type": "code",
   "execution_count": 23,
   "metadata": {},
   "outputs": [
    {
     "data": {
      "text/html": [
       "<div>\n",
       "<style scoped>\n",
       "    .dataframe tbody tr th:only-of-type {\n",
       "        vertical-align: middle;\n",
       "    }\n",
       "\n",
       "    .dataframe tbody tr th {\n",
       "        vertical-align: top;\n",
       "    }\n",
       "\n",
       "    .dataframe thead th {\n",
       "        text-align: right;\n",
       "    }\n",
       "</style>\n",
       "<table border=\"1\" class=\"dataframe\">\n",
       "  <thead>\n",
       "    <tr style=\"text-align: right;\">\n",
       "      <th></th>\n",
       "      <th>Rating</th>\n",
       "      <th>Gender_Male</th>\n",
       "      <th>Student_Yes</th>\n",
       "      <th>Married_Yes</th>\n",
       "      <th>Ethnicity_Asian</th>\n",
       "      <th>Ethnicity_Caucasian</th>\n",
       "    </tr>\n",
       "  </thead>\n",
       "  <tbody>\n",
       "    <tr>\n",
       "      <th>0</th>\n",
       "      <td>1</td>\n",
       "      <td>1</td>\n",
       "      <td>0</td>\n",
       "      <td>1</td>\n",
       "      <td>0</td>\n",
       "      <td>1</td>\n",
       "    </tr>\n",
       "    <tr>\n",
       "      <th>1</th>\n",
       "      <td>4</td>\n",
       "      <td>0</td>\n",
       "      <td>1</td>\n",
       "      <td>1</td>\n",
       "      <td>1</td>\n",
       "      <td>0</td>\n",
       "    </tr>\n",
       "    <tr>\n",
       "      <th>2</th>\n",
       "      <td>4</td>\n",
       "      <td>1</td>\n",
       "      <td>0</td>\n",
       "      <td>0</td>\n",
       "      <td>1</td>\n",
       "      <td>0</td>\n",
       "    </tr>\n",
       "    <tr>\n",
       "      <th>3</th>\n",
       "      <td>4</td>\n",
       "      <td>0</td>\n",
       "      <td>0</td>\n",
       "      <td>0</td>\n",
       "      <td>1</td>\n",
       "      <td>0</td>\n",
       "    </tr>\n",
       "    <tr>\n",
       "      <th>4</th>\n",
       "      <td>2</td>\n",
       "      <td>1</td>\n",
       "      <td>0</td>\n",
       "      <td>1</td>\n",
       "      <td>0</td>\n",
       "      <td>1</td>\n",
       "    </tr>\n",
       "    <tr>\n",
       "      <th>5</th>\n",
       "      <td>4</td>\n",
       "      <td>1</td>\n",
       "      <td>0</td>\n",
       "      <td>0</td>\n",
       "      <td>0</td>\n",
       "      <td>1</td>\n",
       "    </tr>\n",
       "    <tr>\n",
       "      <th>6</th>\n",
       "      <td>1</td>\n",
       "      <td>0</td>\n",
       "      <td>0</td>\n",
       "      <td>0</td>\n",
       "      <td>0</td>\n",
       "      <td>0</td>\n",
       "    </tr>\n",
       "    <tr>\n",
       "      <th>7</th>\n",
       "      <td>4</td>\n",
       "      <td>1</td>\n",
       "      <td>0</td>\n",
       "      <td>0</td>\n",
       "      <td>1</td>\n",
       "      <td>0</td>\n",
       "    </tr>\n",
       "    <tr>\n",
       "      <th>8</th>\n",
       "      <td>1</td>\n",
       "      <td>0</td>\n",
       "      <td>0</td>\n",
       "      <td>0</td>\n",
       "      <td>0</td>\n",
       "      <td>1</td>\n",
       "    </tr>\n",
       "    <tr>\n",
       "      <th>9</th>\n",
       "      <td>4</td>\n",
       "      <td>0</td>\n",
       "      <td>1</td>\n",
       "      <td>1</td>\n",
       "      <td>0</td>\n",
       "      <td>0</td>\n",
       "    </tr>\n",
       "  </tbody>\n",
       "</table>\n",
       "</div>"
      ],
      "text/plain": [
       "   Rating  Gender_Male  Student_Yes  Married_Yes  Ethnicity_Asian  \\\n",
       "0       1            1            0            1                0   \n",
       "1       4            0            1            1                1   \n",
       "2       4            1            0            0                1   \n",
       "3       4            0            0            0                1   \n",
       "4       2            1            0            1                0   \n",
       "5       4            1            0            0                0   \n",
       "6       1            0            0            0                0   \n",
       "7       4            1            0            0                1   \n",
       "8       1            0            0            0                0   \n",
       "9       4            0            1            1                0   \n",
       "\n",
       "   Ethnicity_Caucasian  \n",
       "0                    1  \n",
       "1                    0  \n",
       "2                    0  \n",
       "3                    0  \n",
       "4                    1  \n",
       "5                    1  \n",
       "6                    0  \n",
       "7                    0  \n",
       "8                    1  \n",
       "9                    0  "
      ]
     },
     "execution_count": 23,
     "metadata": {},
     "output_type": "execute_result"
    }
   ],
   "source": [
    "df_enc.head(10)"
   ]
  },
  {
   "cell_type": "markdown",
   "metadata": {},
   "source": [
    "### **Transform etherogeneus data using scikit-learn**  \n",
    "When we have to encode different kinds of variables could be difficult to encode them properly. In this situations, scikit-learn provides two composers that allows to transform different columns simultaneously called ```make_column_transformer``` and ```ColumnTransformer```. These objects accepts every imputer, transfomer and encoder (and other objects too) that have the methods fit and transform.  \n",
    "\n",
    "* documentations\n",
    ">* ColumnTransfomer: https://scikit-learn.org/stable/modules/generated/sklearn.compose.ColumnTransformer.html\n",
    ">* make_column_transformer: https://scikit-learn.org/stable/modules/generated/sklearn.compose.make_column_transformer.html"
   ]
  },
  {
   "cell_type": "markdown",
   "metadata": {},
   "source": [
    "**Load the new dataframe**  \n",
    "One of the advantages of this composer is that applies different transformers (also Scalers or Imputers) to columns of a numpy array or pandas dataFrame. For this example, we transform directly the dataframe columns without make any conversion of the data to a numpy array."
   ]
  },
  {
   "cell_type": "code",
   "execution_count": 24,
   "metadata": {},
   "outputs": [],
   "source": [
    "df = pd.read_csv(\"data/eterogeneus_data.csv\")"
   ]
  },
  {
   "cell_type": "code",
   "execution_count": 25,
   "metadata": {},
   "outputs": [
    {
     "data": {
      "text/html": [
       "<div>\n",
       "<style scoped>\n",
       "    .dataframe tbody tr th:only-of-type {\n",
       "        vertical-align: middle;\n",
       "    }\n",
       "\n",
       "    .dataframe tbody tr th {\n",
       "        vertical-align: top;\n",
       "    }\n",
       "\n",
       "    .dataframe thead th {\n",
       "        text-align: right;\n",
       "    }\n",
       "</style>\n",
       "<table border=\"1\" class=\"dataframe\">\n",
       "  <thead>\n",
       "    <tr style=\"text-align: right;\">\n",
       "      <th></th>\n",
       "      <th>Gender</th>\n",
       "      <th>Student</th>\n",
       "      <th>Married</th>\n",
       "      <th>Ethnicity</th>\n",
       "      <th>Rating</th>\n",
       "      <th>Age</th>\n",
       "      <th>Income</th>\n",
       "      <th>Education Years</th>\n",
       "    </tr>\n",
       "  </thead>\n",
       "  <tbody>\n",
       "    <tr>\n",
       "      <th>0</th>\n",
       "      <td>Male</td>\n",
       "      <td>No</td>\n",
       "      <td>Yes</td>\n",
       "      <td>Caucasian</td>\n",
       "      <td>Low</td>\n",
       "      <td>34</td>\n",
       "      <td>14.89</td>\n",
       "      <td>11</td>\n",
       "    </tr>\n",
       "    <tr>\n",
       "      <th>1</th>\n",
       "      <td>Female</td>\n",
       "      <td>Yes</td>\n",
       "      <td>Yes</td>\n",
       "      <td>Asian</td>\n",
       "      <td>Premium</td>\n",
       "      <td>82</td>\n",
       "      <td>106.03</td>\n",
       "      <td>15</td>\n",
       "    </tr>\n",
       "    <tr>\n",
       "      <th>2</th>\n",
       "      <td>Male</td>\n",
       "      <td>No</td>\n",
       "      <td>No</td>\n",
       "      <td>Asian</td>\n",
       "      <td>Premium</td>\n",
       "      <td>71</td>\n",
       "      <td>104.59</td>\n",
       "      <td>11</td>\n",
       "    </tr>\n",
       "    <tr>\n",
       "      <th>3</th>\n",
       "      <td>Female</td>\n",
       "      <td>No</td>\n",
       "      <td>No</td>\n",
       "      <td>Asian</td>\n",
       "      <td>Premium</td>\n",
       "      <td>36</td>\n",
       "      <td>148.92</td>\n",
       "      <td>11</td>\n",
       "    </tr>\n",
       "    <tr>\n",
       "      <th>4</th>\n",
       "      <td>Male</td>\n",
       "      <td>No</td>\n",
       "      <td>Yes</td>\n",
       "      <td>Caucasian</td>\n",
       "      <td>Medium</td>\n",
       "      <td>68</td>\n",
       "      <td>55.88</td>\n",
       "      <td>16</td>\n",
       "    </tr>\n",
       "    <tr>\n",
       "      <th>5</th>\n",
       "      <td>Male</td>\n",
       "      <td>No</td>\n",
       "      <td>No</td>\n",
       "      <td>Caucasian</td>\n",
       "      <td>Premium</td>\n",
       "      <td>77</td>\n",
       "      <td>80.18</td>\n",
       "      <td>10</td>\n",
       "    </tr>\n",
       "    <tr>\n",
       "      <th>6</th>\n",
       "      <td>Female</td>\n",
       "      <td>No</td>\n",
       "      <td>No</td>\n",
       "      <td>African American</td>\n",
       "      <td>Low</td>\n",
       "      <td>37</td>\n",
       "      <td>21.00</td>\n",
       "      <td>12</td>\n",
       "    </tr>\n",
       "    <tr>\n",
       "      <th>7</th>\n",
       "      <td>Male</td>\n",
       "      <td>No</td>\n",
       "      <td>No</td>\n",
       "      <td>Asian</td>\n",
       "      <td>Premium</td>\n",
       "      <td>87</td>\n",
       "      <td>71.41</td>\n",
       "      <td>9</td>\n",
       "    </tr>\n",
       "    <tr>\n",
       "      <th>8</th>\n",
       "      <td>Female</td>\n",
       "      <td>No</td>\n",
       "      <td>No</td>\n",
       "      <td>Caucasian</td>\n",
       "      <td>Low</td>\n",
       "      <td>66</td>\n",
       "      <td>15.12</td>\n",
       "      <td>13</td>\n",
       "    </tr>\n",
       "    <tr>\n",
       "      <th>9</th>\n",
       "      <td>Female</td>\n",
       "      <td>Yes</td>\n",
       "      <td>Yes</td>\n",
       "      <td>African American</td>\n",
       "      <td>Premium</td>\n",
       "      <td>41</td>\n",
       "      <td>71.06</td>\n",
       "      <td>19</td>\n",
       "    </tr>\n",
       "  </tbody>\n",
       "</table>\n",
       "</div>"
      ],
      "text/plain": [
       "   Gender Student Married         Ethnicity   Rating  Age  Income  \\\n",
       "0    Male      No     Yes         Caucasian      Low   34   14.89   \n",
       "1  Female     Yes     Yes             Asian  Premium   82  106.03   \n",
       "2    Male      No      No             Asian  Premium   71  104.59   \n",
       "3  Female      No      No             Asian  Premium   36  148.92   \n",
       "4    Male      No     Yes         Caucasian   Medium   68   55.88   \n",
       "5    Male      No      No         Caucasian  Premium   77   80.18   \n",
       "6  Female      No      No  African American      Low   37   21.00   \n",
       "7    Male      No      No             Asian  Premium   87   71.41   \n",
       "8  Female      No      No         Caucasian      Low   66   15.12   \n",
       "9  Female     Yes     Yes  African American  Premium   41   71.06   \n",
       "\n",
       "   Education Years  \n",
       "0               11  \n",
       "1               15  \n",
       "2               11  \n",
       "3               11  \n",
       "4               16  \n",
       "5               10  \n",
       "6               12  \n",
       "7                9  \n",
       "8               13  \n",
       "9               19  "
      ]
     },
     "execution_count": 25,
     "metadata": {},
     "output_type": "execute_result"
    }
   ],
   "source": [
    "df.head(10)"
   ]
  },
  {
   "cell_type": "markdown",
   "metadata": {},
   "source": [
    "**Using ```ColumnTransformer```**  \n",
    "During the definition of the composer, inside the parameter ```transformers``` we have to define a list of tuples that includes for each transformer the name, the transformer object and the columns to transform.  \n",
    "\n",
    "Definition of the object:\n",
    "```python \n",
    "ColumnTransformer(\n",
    "    transformers,\n",
    "    remainder='drop',\n",
    "    sparse_threshold=0.3,\n",
    "    n_jobs=None,\n",
    "    transformer_weights=None,\n",
    "    verbose=False,\n",
    ")\n",
    "```"
   ]
  },
  {
   "cell_type": "code",
   "execution_count": 26,
   "metadata": {},
   "outputs": [
    {
     "data": {
      "text/html": [
       "<style>div.sk-top-container {color: black;background-color: white;}div.sk-toggleable {background-color: white;}label.sk-toggleable__label {cursor: pointer;display: block;width: 100%;margin-bottom: 0;padding: 0.2em 0.3em;box-sizing: border-box;text-align: center;}div.sk-toggleable__content {max-height: 0;max-width: 0;overflow: hidden;text-align: left;background-color: #f0f8ff;}div.sk-toggleable__content pre {margin: 0.2em;color: black;border-radius: 0.25em;background-color: #f0f8ff;}input.sk-toggleable__control:checked~div.sk-toggleable__content {max-height: 200px;max-width: 100%;overflow: auto;}div.sk-estimator input.sk-toggleable__control:checked~label.sk-toggleable__label {background-color: #d4ebff;}div.sk-label input.sk-toggleable__control:checked~label.sk-toggleable__label {background-color: #d4ebff;}input.sk-hidden--visually {border: 0;clip: rect(1px 1px 1px 1px);clip: rect(1px, 1px, 1px, 1px);height: 1px;margin: -1px;overflow: hidden;padding: 0;position: absolute;width: 1px;}div.sk-estimator {font-family: monospace;background-color: #f0f8ff;margin: 0.25em 0.25em;border: 1px dotted black;border-radius: 0.25em;box-sizing: border-box;}div.sk-estimator:hover {background-color: #d4ebff;}div.sk-parallel-item::after {content: \"\";width: 100%;border-bottom: 1px solid gray;flex-grow: 1;}div.sk-label:hover label.sk-toggleable__label {background-color: #d4ebff;}div.sk-serial::before {content: \"\";position: absolute;border-left: 1px solid gray;box-sizing: border-box;top: 2em;bottom: 0;left: 50%;}div.sk-serial {display: flex;flex-direction: column;align-items: center;background-color: white;}div.sk-item {z-index: 1;}div.sk-parallel {display: flex;align-items: stretch;justify-content: center;background-color: white;}div.sk-parallel-item {display: flex;flex-direction: column;position: relative;background-color: white;}div.sk-parallel-item:first-child::after {align-self: flex-end;width: 50%;}div.sk-parallel-item:last-child::after {align-self: flex-start;width: 50%;}div.sk-parallel-item:only-child::after {width: 0;}div.sk-dashed-wrapped {border: 1px dashed gray;margin: 0.2em;box-sizing: border-box;padding-bottom: 0.1em;background-color: white;position: relative;}div.sk-label label {font-family: monospace;font-weight: bold;background-color: white;display: inline-block;line-height: 1.2em;}div.sk-label-container {position: relative;z-index: 2;text-align: center;}div.sk-container {display: inline-block;position: relative;}</style><div class=\"sk-top-container\"><div class=\"sk-container\"><div class=\"sk-item sk-dashed-wrapped\"><div class=\"sk-label-container\"><div class=\"sk-label sk-toggleable\"><input class=\"sk-toggleable__control sk-hidden--visually\" id=\"02fb952d-9aa8-45bc-acbd-6dffd8b426a3\" type=\"checkbox\" ><label class=\"sk-toggleable__label\" for=\"02fb952d-9aa8-45bc-acbd-6dffd8b426a3\">ColumnTransformer</label><div class=\"sk-toggleable__content\"><pre>ColumnTransformer(n_jobs=None, remainder='drop', sparse_threshold=0.3,\n",
       "                  transformer_weights=None,\n",
       "                  transformers=[('MinMax',\n",
       "                                 MinMaxScaler(clip=False, copy=True,\n",
       "                                              feature_range=(0, 1)),\n",
       "                                 ['Age', 'Income', 'Education Years']),\n",
       "                                ('OneHot',\n",
       "                                 OneHotEncoder(categories='auto', drop='first',\n",
       "                                               dtype=<class 'int'>,\n",
       "                                               handle_unknown='error',\n",
       "                                               sparse=False),\n",
       "                                 ['Gender', 'Student', 'Married', 'Ethnicity']),\n",
       "                                ('Ordinal',\n",
       "                                 OrdinalEncoder(categories=[['Very low', 'Low',\n",
       "                                                             'Medium', 'High',\n",
       "                                                             'Premium']],\n",
       "                                                dtype=<class 'int'>,\n",
       "                                                handle_unknown='error',\n",
       "                                                unknown_value=None),\n",
       "                                 ['Rating'])],\n",
       "                  verbose=False)</pre></div></div></div><div class=\"sk-parallel\"><div class=\"sk-parallel-item\"><div class=\"sk-item\"><div class=\"sk-label-container\"><div class=\"sk-label sk-toggleable\"><input class=\"sk-toggleable__control sk-hidden--visually\" id=\"b983e9dc-c809-4111-b84c-4133d7bd7c89\" type=\"checkbox\" ><label class=\"sk-toggleable__label\" for=\"b983e9dc-c809-4111-b84c-4133d7bd7c89\">MinMax</label><div class=\"sk-toggleable__content\"><pre>['Age', 'Income', 'Education Years']</pre></div></div></div><div class=\"sk-serial\"><div class=\"sk-item\"><div class=\"sk-estimator sk-toggleable\"><input class=\"sk-toggleable__control sk-hidden--visually\" id=\"bbf200ac-2e0c-43ad-a8f5-49552ed05950\" type=\"checkbox\" ><label class=\"sk-toggleable__label\" for=\"bbf200ac-2e0c-43ad-a8f5-49552ed05950\">MinMaxScaler</label><div class=\"sk-toggleable__content\"><pre>MinMaxScaler()</pre></div></div></div></div></div></div><div class=\"sk-parallel-item\"><div class=\"sk-item\"><div class=\"sk-label-container\"><div class=\"sk-label sk-toggleable\"><input class=\"sk-toggleable__control sk-hidden--visually\" id=\"bf8a116c-e18d-4594-9567-dec6cc468fd6\" type=\"checkbox\" ><label class=\"sk-toggleable__label\" for=\"bf8a116c-e18d-4594-9567-dec6cc468fd6\">OneHot</label><div class=\"sk-toggleable__content\"><pre>['Gender', 'Student', 'Married', 'Ethnicity']</pre></div></div></div><div class=\"sk-serial\"><div class=\"sk-item\"><div class=\"sk-estimator sk-toggleable\"><input class=\"sk-toggleable__control sk-hidden--visually\" id=\"0444bcc6-98e0-4065-9590-3c21235524bc\" type=\"checkbox\" ><label class=\"sk-toggleable__label\" for=\"0444bcc6-98e0-4065-9590-3c21235524bc\">OneHotEncoder</label><div class=\"sk-toggleable__content\"><pre>OneHotEncoder(drop='first', dtype=<class 'int'>, sparse=False)</pre></div></div></div></div></div></div><div class=\"sk-parallel-item\"><div class=\"sk-item\"><div class=\"sk-label-container\"><div class=\"sk-label sk-toggleable\"><input class=\"sk-toggleable__control sk-hidden--visually\" id=\"43eafb81-f64a-44c9-a95a-6dfe7fa459f0\" type=\"checkbox\" ><label class=\"sk-toggleable__label\" for=\"43eafb81-f64a-44c9-a95a-6dfe7fa459f0\">Ordinal</label><div class=\"sk-toggleable__content\"><pre>['Rating']</pre></div></div></div><div class=\"sk-serial\"><div class=\"sk-item\"><div class=\"sk-estimator sk-toggleable\"><input class=\"sk-toggleable__control sk-hidden--visually\" id=\"89a102dd-923c-4ef4-9ed4-de275a7e9c98\" type=\"checkbox\" ><label class=\"sk-toggleable__label\" for=\"89a102dd-923c-4ef4-9ed4-de275a7e9c98\">OrdinalEncoder</label><div class=\"sk-toggleable__content\"><pre>OrdinalEncoder(categories=[['Very low', 'Low', 'Medium', 'High', 'Premium']],\n",
       "               dtype=<class 'int'>)</pre></div></div></div></div></div></div></div></div></div></div>"
      ],
      "text/plain": [
       "ColumnTransformer(n_jobs=None, remainder='drop', sparse_threshold=0.3,\n",
       "                  transformer_weights=None,\n",
       "                  transformers=[('MinMax',\n",
       "                                 MinMaxScaler(clip=False, copy=True,\n",
       "                                              feature_range=(0, 1)),\n",
       "                                 ['Age', 'Income', 'Education Years']),\n",
       "                                ('OneHot',\n",
       "                                 OneHotEncoder(categories='auto', drop='first',\n",
       "                                               dtype=<class 'int'>,\n",
       "                                               handle_unknown='error',\n",
       "                                               sparse=False),\n",
       "                                 ['Gender', 'Student', 'Married', 'Ethnicity']),\n",
       "                                ('Ordinal',\n",
       "                                 OrdinalEncoder(categories=[['Very low', 'Low',\n",
       "                                                             'Medium', 'High',\n",
       "                                                             'Premium']],\n",
       "                                                dtype=<class 'int'>,\n",
       "                                                handle_unknown='error',\n",
       "                                                unknown_value=None),\n",
       "                                 ['Rating'])],\n",
       "                  verbose=False)"
      ]
     },
     "execution_count": 26,
     "metadata": {},
     "output_type": "execute_result"
    }
   ],
   "source": [
    "categories = [['Very low', 'Low', 'Medium', 'High', 'Premium']]\n",
    "\n",
    "ct = ColumnTransformer(transformers=[\n",
    "    (\"MinMax\", MinMaxScaler(), [\"Age\", \"Income\", \"Education Years\"]),\n",
    "    (\"OneHot\", OneHotEncoder(drop=\"first\", sparse=False, dtype=int), [\"Gender\", \"Student\", \"Married\", \"Ethnicity\"]),\n",
    "    (\"Ordinal\", OrdinalEncoder(categories=categories, dtype=int), [\"Rating\"])\n",
    "])\n",
    "ct"
   ]
  },
  {
   "cell_type": "markdown",
   "metadata": {},
   "source": [
    "**Fit and transform of the categorical data**  \n",
    "Like the others scikit-learn objects, the ```fit_transform``` method of the composer returns a numpy array."
   ]
  },
  {
   "cell_type": "code",
   "execution_count": 27,
   "metadata": {},
   "outputs": [
    {
     "name": "stdout",
     "output_type": "stream",
     "text": [
      "[[0.14666667 0.02573746 0.4        1.         0.         1.\n",
      "  0.         1.         1.        ]\n",
      " [0.78666667 0.54272181 0.66666667 0.         1.         1.\n",
      "  1.         0.         4.        ]\n",
      " [0.64       0.53459837 0.4        1.         0.         0.\n",
      "  1.         0.         4.        ]\n",
      " [0.17333333 0.78607897 0.4        0.         0.         0.\n",
      "  1.         0.         4.        ]\n",
      " [0.6        0.25827093 0.73333333 1.         0.         1.\n",
      "  0.         1.         2.        ]\n",
      " [0.72       0.39610846 0.33333333 1.         0.         0.\n",
      "  0.         1.         4.        ]\n",
      " [0.18666667 0.06036987 0.46666667 0.         0.         0.\n",
      "  0.         0.         1.        ]\n",
      " [0.85333333 0.34634672 0.26666667 1.         0.         0.\n",
      "  1.         0.         4.        ]\n",
      " [0.57333333 0.0270649  0.53333333 0.         0.         0.\n",
      "  0.         1.         1.        ]\n",
      " [0.24       0.34437826 0.93333333 0.         1.         1.\n",
      "  0.         0.         4.        ]]\n"
     ]
    }
   ],
   "source": [
    "array_enc = ct.fit_transform(df)\n",
    "\n",
    "print(array_enc[:10, :])"
   ]
  },
  {
   "cell_type": "markdown",
   "metadata": {},
   "source": [
    "**Using ```make_column_transformer```**  \n",
    "The main difference between the two transformers is that the function ```make_column_transformer``` want tuples in input and doesn't need to define the name of the transformers.  \n",
    "\n",
    "Definition of the function:\n",
    "```python\n",
    "make_column_transformer(*transformers, **kwargs)\n",
    "```"
   ]
  },
  {
   "cell_type": "code",
   "execution_count": 28,
   "metadata": {},
   "outputs": [
    {
     "data": {
      "text/html": [
       "<style>div.sk-top-container {color: black;background-color: white;}div.sk-toggleable {background-color: white;}label.sk-toggleable__label {cursor: pointer;display: block;width: 100%;margin-bottom: 0;padding: 0.2em 0.3em;box-sizing: border-box;text-align: center;}div.sk-toggleable__content {max-height: 0;max-width: 0;overflow: hidden;text-align: left;background-color: #f0f8ff;}div.sk-toggleable__content pre {margin: 0.2em;color: black;border-radius: 0.25em;background-color: #f0f8ff;}input.sk-toggleable__control:checked~div.sk-toggleable__content {max-height: 200px;max-width: 100%;overflow: auto;}div.sk-estimator input.sk-toggleable__control:checked~label.sk-toggleable__label {background-color: #d4ebff;}div.sk-label input.sk-toggleable__control:checked~label.sk-toggleable__label {background-color: #d4ebff;}input.sk-hidden--visually {border: 0;clip: rect(1px 1px 1px 1px);clip: rect(1px, 1px, 1px, 1px);height: 1px;margin: -1px;overflow: hidden;padding: 0;position: absolute;width: 1px;}div.sk-estimator {font-family: monospace;background-color: #f0f8ff;margin: 0.25em 0.25em;border: 1px dotted black;border-radius: 0.25em;box-sizing: border-box;}div.sk-estimator:hover {background-color: #d4ebff;}div.sk-parallel-item::after {content: \"\";width: 100%;border-bottom: 1px solid gray;flex-grow: 1;}div.sk-label:hover label.sk-toggleable__label {background-color: #d4ebff;}div.sk-serial::before {content: \"\";position: absolute;border-left: 1px solid gray;box-sizing: border-box;top: 2em;bottom: 0;left: 50%;}div.sk-serial {display: flex;flex-direction: column;align-items: center;background-color: white;}div.sk-item {z-index: 1;}div.sk-parallel {display: flex;align-items: stretch;justify-content: center;background-color: white;}div.sk-parallel-item {display: flex;flex-direction: column;position: relative;background-color: white;}div.sk-parallel-item:first-child::after {align-self: flex-end;width: 50%;}div.sk-parallel-item:last-child::after {align-self: flex-start;width: 50%;}div.sk-parallel-item:only-child::after {width: 0;}div.sk-dashed-wrapped {border: 1px dashed gray;margin: 0.2em;box-sizing: border-box;padding-bottom: 0.1em;background-color: white;position: relative;}div.sk-label label {font-family: monospace;font-weight: bold;background-color: white;display: inline-block;line-height: 1.2em;}div.sk-label-container {position: relative;z-index: 2;text-align: center;}div.sk-container {display: inline-block;position: relative;}</style><div class=\"sk-top-container\"><div class=\"sk-container\"><div class=\"sk-item sk-dashed-wrapped\"><div class=\"sk-label-container\"><div class=\"sk-label sk-toggleable\"><input class=\"sk-toggleable__control sk-hidden--visually\" id=\"888138d4-9b53-44b6-9a0c-6cbabd1c8afc\" type=\"checkbox\" ><label class=\"sk-toggleable__label\" for=\"888138d4-9b53-44b6-9a0c-6cbabd1c8afc\">ColumnTransformer</label><div class=\"sk-toggleable__content\"><pre>ColumnTransformer(n_jobs=None, remainder='drop', sparse_threshold=0.3,\n",
       "                  transformer_weights=None,\n",
       "                  transformers=[('minmaxscaler',\n",
       "                                 MinMaxScaler(clip=False, copy=True,\n",
       "                                              feature_range=(0, 1)),\n",
       "                                 ['Age', 'Income', 'Education Years']),\n",
       "                                ('onehotencoder',\n",
       "                                 OneHotEncoder(categories='auto', drop='first',\n",
       "                                               dtype=<class 'int'>,\n",
       "                                               handle_unknown='error',\n",
       "                                               sparse=False),\n",
       "                                 ['Gender', 'Student', 'Married', 'Ethnicity']),\n",
       "                                ('ordinalencoder',\n",
       "                                 OrdinalEncoder(categories=[['Very low', 'Low',\n",
       "                                                             'Medium', 'High',\n",
       "                                                             'Premium']],\n",
       "                                                dtype=<class 'int'>,\n",
       "                                                handle_unknown='error',\n",
       "                                                unknown_value=None),\n",
       "                                 ['Rating'])],\n",
       "                  verbose=False)</pre></div></div></div><div class=\"sk-parallel\"><div class=\"sk-parallel-item\"><div class=\"sk-item\"><div class=\"sk-label-container\"><div class=\"sk-label sk-toggleable\"><input class=\"sk-toggleable__control sk-hidden--visually\" id=\"78143df7-d660-44d0-b3d8-4e4b90e4c5ff\" type=\"checkbox\" ><label class=\"sk-toggleable__label\" for=\"78143df7-d660-44d0-b3d8-4e4b90e4c5ff\">minmaxscaler</label><div class=\"sk-toggleable__content\"><pre>['Age', 'Income', 'Education Years']</pre></div></div></div><div class=\"sk-serial\"><div class=\"sk-item\"><div class=\"sk-estimator sk-toggleable\"><input class=\"sk-toggleable__control sk-hidden--visually\" id=\"ce466151-6dd5-4ceb-9685-98be55980540\" type=\"checkbox\" ><label class=\"sk-toggleable__label\" for=\"ce466151-6dd5-4ceb-9685-98be55980540\">MinMaxScaler</label><div class=\"sk-toggleable__content\"><pre>MinMaxScaler()</pre></div></div></div></div></div></div><div class=\"sk-parallel-item\"><div class=\"sk-item\"><div class=\"sk-label-container\"><div class=\"sk-label sk-toggleable\"><input class=\"sk-toggleable__control sk-hidden--visually\" id=\"c6cedf96-47ac-44a5-ae0e-fdca7d5f0c6d\" type=\"checkbox\" ><label class=\"sk-toggleable__label\" for=\"c6cedf96-47ac-44a5-ae0e-fdca7d5f0c6d\">onehotencoder</label><div class=\"sk-toggleable__content\"><pre>['Gender', 'Student', 'Married', 'Ethnicity']</pre></div></div></div><div class=\"sk-serial\"><div class=\"sk-item\"><div class=\"sk-estimator sk-toggleable\"><input class=\"sk-toggleable__control sk-hidden--visually\" id=\"4e3a5533-b7b9-491f-99b4-b1437921fab6\" type=\"checkbox\" ><label class=\"sk-toggleable__label\" for=\"4e3a5533-b7b9-491f-99b4-b1437921fab6\">OneHotEncoder</label><div class=\"sk-toggleable__content\"><pre>OneHotEncoder(drop='first', dtype=<class 'int'>, sparse=False)</pre></div></div></div></div></div></div><div class=\"sk-parallel-item\"><div class=\"sk-item\"><div class=\"sk-label-container\"><div class=\"sk-label sk-toggleable\"><input class=\"sk-toggleable__control sk-hidden--visually\" id=\"baa9ed95-ab4d-4f84-a827-bea91798e252\" type=\"checkbox\" ><label class=\"sk-toggleable__label\" for=\"baa9ed95-ab4d-4f84-a827-bea91798e252\">ordinalencoder</label><div class=\"sk-toggleable__content\"><pre>['Rating']</pre></div></div></div><div class=\"sk-serial\"><div class=\"sk-item\"><div class=\"sk-estimator sk-toggleable\"><input class=\"sk-toggleable__control sk-hidden--visually\" id=\"3f4f79b7-40ff-4d96-984b-4a6fce2acc83\" type=\"checkbox\" ><label class=\"sk-toggleable__label\" for=\"3f4f79b7-40ff-4d96-984b-4a6fce2acc83\">OrdinalEncoder</label><div class=\"sk-toggleable__content\"><pre>OrdinalEncoder(categories=[['Very low', 'Low', 'Medium', 'High', 'Premium']],\n",
       "               dtype=<class 'int'>)</pre></div></div></div></div></div></div></div></div></div></div>"
      ],
      "text/plain": [
       "ColumnTransformer(n_jobs=None, remainder='drop', sparse_threshold=0.3,\n",
       "                  transformer_weights=None,\n",
       "                  transformers=[('minmaxscaler',\n",
       "                                 MinMaxScaler(clip=False, copy=True,\n",
       "                                              feature_range=(0, 1)),\n",
       "                                 ['Age', 'Income', 'Education Years']),\n",
       "                                ('onehotencoder',\n",
       "                                 OneHotEncoder(categories='auto', drop='first',\n",
       "                                               dtype=<class 'int'>,\n",
       "                                               handle_unknown='error',\n",
       "                                               sparse=False),\n",
       "                                 ['Gender', 'Student', 'Married', 'Ethnicity']),\n",
       "                                ('ordinalencoder',\n",
       "                                 OrdinalEncoder(categories=[['Very low', 'Low',\n",
       "                                                             'Medium', 'High',\n",
       "                                                             'Premium']],\n",
       "                                                dtype=<class 'int'>,\n",
       "                                                handle_unknown='error',\n",
       "                                                unknown_value=None),\n",
       "                                 ['Rating'])],\n",
       "                  verbose=False)"
      ]
     },
     "execution_count": 28,
     "metadata": {},
     "output_type": "execute_result"
    }
   ],
   "source": [
    "categories = [['Very low', 'Low', 'Medium', 'High', 'Premium']]\n",
    "\n",
    "mct = make_column_transformer(\n",
    "    (MinMaxScaler(), [\"Age\", \"Income\", \"Education Years\"]),\n",
    "    (OneHotEncoder(drop=\"first\", sparse=False, dtype=int), [\"Gender\", \"Student\", \"Married\", \"Ethnicity\"]),\n",
    "    (OrdinalEncoder(categories=categories, dtype=int), [\"Rating\"])\n",
    ")\n",
    "mct"
   ]
  },
  {
   "cell_type": "code",
   "execution_count": 29,
   "metadata": {},
   "outputs": [
    {
     "name": "stdout",
     "output_type": "stream",
     "text": [
      "[[0.14666667 0.02573746 0.4        1.         0.         1.\n",
      "  0.         1.         1.        ]\n",
      " [0.78666667 0.54272181 0.66666667 0.         1.         1.\n",
      "  1.         0.         4.        ]\n",
      " [0.64       0.53459837 0.4        1.         0.         0.\n",
      "  1.         0.         4.        ]\n",
      " [0.17333333 0.78607897 0.4        0.         0.         0.\n",
      "  1.         0.         4.        ]\n",
      " [0.6        0.25827093 0.73333333 1.         0.         1.\n",
      "  0.         1.         2.        ]\n",
      " [0.72       0.39610846 0.33333333 1.         0.         0.\n",
      "  0.         1.         4.        ]\n",
      " [0.18666667 0.06036987 0.46666667 0.         0.         0.\n",
      "  0.         0.         1.        ]\n",
      " [0.85333333 0.34634672 0.26666667 1.         0.         0.\n",
      "  1.         0.         4.        ]\n",
      " [0.57333333 0.0270649  0.53333333 0.         0.         0.\n",
      "  0.         1.         1.        ]\n",
      " [0.24       0.34437826 0.93333333 0.         1.         1.\n",
      "  0.         0.         4.        ]]\n"
     ]
    }
   ],
   "source": [
    "array_enc = mct.fit_transform(df)\n",
    "\n",
    "print(array_enc[:10, :])"
   ]
  },
  {
   "cell_type": "markdown",
   "metadata": {},
   "source": [
    "**How interpret the coefficients of categorical variables**  \n",
    "The logic behind the interpretation of categorical variables is very similar to that used for numerical variables:\n",
    "* the category with zero value goes to the intercept\n",
    "* the coefficients relative to the other categories show the variation that occurs to have $y=1$ with that category included in the predictors matrix"
   ]
  },
  {
   "cell_type": "markdown",
   "metadata": {},
   "source": [
    "### **EXTRA: Handle missing values**  \n",
    "Let's introduce some missing values in the columns Age and Rating"
   ]
  },
  {
   "cell_type": "code",
   "execution_count": 30,
   "metadata": {},
   "outputs": [],
   "source": [
    "for column in [\"Age\", \"Rating\"]:\n",
    "    df.loc[df.sample(frac=0.05).index, column] = np.nan"
   ]
  },
  {
   "cell_type": "markdown",
   "metadata": {},
   "source": [
    "**Check for missing value in our dataframe**"
   ]
  },
  {
   "cell_type": "code",
   "execution_count": 31,
   "metadata": {
    "scrolled": true
   },
   "outputs": [
    {
     "data": {
      "text/plain": [
       "Gender              0\n",
       "Student             0\n",
       "Married             0\n",
       "Ethnicity           0\n",
       "Rating             20\n",
       "Age                20\n",
       "Income              0\n",
       "Education Years     0\n",
       "dtype: int64"
      ]
     },
     "execution_count": 31,
     "metadata": {},
     "output_type": "execute_result"
    }
   ],
   "source": [
    "df.isnull().sum()"
   ]
  },
  {
   "cell_type": "markdown",
   "metadata": {},
   "source": [
    "**When there are some missing values in the dataset there are two strategies that can be followed:**\n",
    "* drop the rows or columns with the missing values\n",
    "* impute the values with another one"
   ]
  },
  {
   "cell_type": "markdown",
   "metadata": {},
   "source": [
    "**To drop the rows that contains missing values we can easily use the method ```dropna``` provided by pandas**  \n",
    "Definition of the function:\n",
    "```python\n",
    "df.dropna(axis=0, how='any', thresh=None, subset=None, inplace=False)\n",
    "```"
   ]
  },
  {
   "cell_type": "code",
   "execution_count": 32,
   "metadata": {
    "scrolled": true
   },
   "outputs": [
    {
     "data": {
      "text/html": [
       "<div>\n",
       "<style scoped>\n",
       "    .dataframe tbody tr th:only-of-type {\n",
       "        vertical-align: middle;\n",
       "    }\n",
       "\n",
       "    .dataframe tbody tr th {\n",
       "        vertical-align: top;\n",
       "    }\n",
       "\n",
       "    .dataframe thead th {\n",
       "        text-align: right;\n",
       "    }\n",
       "</style>\n",
       "<table border=\"1\" class=\"dataframe\">\n",
       "  <thead>\n",
       "    <tr style=\"text-align: right;\">\n",
       "      <th></th>\n",
       "      <th>Gender</th>\n",
       "      <th>Student</th>\n",
       "      <th>Married</th>\n",
       "      <th>Ethnicity</th>\n",
       "      <th>Rating</th>\n",
       "      <th>Age</th>\n",
       "      <th>Income</th>\n",
       "      <th>Education Years</th>\n",
       "    </tr>\n",
       "  </thead>\n",
       "  <tbody>\n",
       "    <tr>\n",
       "      <th>0</th>\n",
       "      <td>Male</td>\n",
       "      <td>No</td>\n",
       "      <td>Yes</td>\n",
       "      <td>Caucasian</td>\n",
       "      <td>Low</td>\n",
       "      <td>34.00</td>\n",
       "      <td>14.89</td>\n",
       "      <td>11</td>\n",
       "    </tr>\n",
       "    <tr>\n",
       "      <th>1</th>\n",
       "      <td>Female</td>\n",
       "      <td>Yes</td>\n",
       "      <td>Yes</td>\n",
       "      <td>Asian</td>\n",
       "      <td>Premium</td>\n",
       "      <td>82.00</td>\n",
       "      <td>106.03</td>\n",
       "      <td>15</td>\n",
       "    </tr>\n",
       "    <tr>\n",
       "      <th>2</th>\n",
       "      <td>Male</td>\n",
       "      <td>No</td>\n",
       "      <td>No</td>\n",
       "      <td>Asian</td>\n",
       "      <td>Premium</td>\n",
       "      <td>71.00</td>\n",
       "      <td>104.59</td>\n",
       "      <td>11</td>\n",
       "    </tr>\n",
       "    <tr>\n",
       "      <th>3</th>\n",
       "      <td>Female</td>\n",
       "      <td>No</td>\n",
       "      <td>No</td>\n",
       "      <td>Asian</td>\n",
       "      <td>Premium</td>\n",
       "      <td>36.00</td>\n",
       "      <td>148.92</td>\n",
       "      <td>11</td>\n",
       "    </tr>\n",
       "    <tr>\n",
       "      <th>4</th>\n",
       "      <td>Male</td>\n",
       "      <td>No</td>\n",
       "      <td>Yes</td>\n",
       "      <td>Caucasian</td>\n",
       "      <td>Medium</td>\n",
       "      <td>68.00</td>\n",
       "      <td>55.88</td>\n",
       "      <td>16</td>\n",
       "    </tr>\n",
       "    <tr>\n",
       "      <th>...</th>\n",
       "      <td>...</td>\n",
       "      <td>...</td>\n",
       "      <td>...</td>\n",
       "      <td>...</td>\n",
       "      <td>...</td>\n",
       "      <td>...</td>\n",
       "      <td>...</td>\n",
       "      <td>...</td>\n",
       "    </tr>\n",
       "    <tr>\n",
       "      <th>395</th>\n",
       "      <td>Male</td>\n",
       "      <td>No</td>\n",
       "      <td>Yes</td>\n",
       "      <td>Caucasian</td>\n",
       "      <td>Medium</td>\n",
       "      <td>32.00</td>\n",
       "      <td>12.10</td>\n",
       "      <td>13</td>\n",
       "    </tr>\n",
       "    <tr>\n",
       "      <th>396</th>\n",
       "      <td>Male</td>\n",
       "      <td>No</td>\n",
       "      <td>No</td>\n",
       "      <td>African American</td>\n",
       "      <td>Low</td>\n",
       "      <td>65.00</td>\n",
       "      <td>13.36</td>\n",
       "      <td>17</td>\n",
       "    </tr>\n",
       "    <tr>\n",
       "      <th>397</th>\n",
       "      <td>Female</td>\n",
       "      <td>No</td>\n",
       "      <td>Yes</td>\n",
       "      <td>Caucasian</td>\n",
       "      <td>Medium</td>\n",
       "      <td>67.00</td>\n",
       "      <td>57.87</td>\n",
       "      <td>12</td>\n",
       "    </tr>\n",
       "    <tr>\n",
       "      <th>398</th>\n",
       "      <td>Male</td>\n",
       "      <td>No</td>\n",
       "      <td>Yes</td>\n",
       "      <td>Caucasian</td>\n",
       "      <td>Very low</td>\n",
       "      <td>44.00</td>\n",
       "      <td>37.73</td>\n",
       "      <td>13</td>\n",
       "    </tr>\n",
       "    <tr>\n",
       "      <th>399</th>\n",
       "      <td>Female</td>\n",
       "      <td>No</td>\n",
       "      <td>No</td>\n",
       "      <td>Asian</td>\n",
       "      <td>High</td>\n",
       "      <td>64.00</td>\n",
       "      <td>18.70</td>\n",
       "      <td>7</td>\n",
       "    </tr>\n",
       "  </tbody>\n",
       "</table>\n",
       "<p>361 rows × 8 columns</p>\n",
       "</div>"
      ],
      "text/plain": [
       "     Gender Student Married         Ethnicity    Rating   Age  Income  \\\n",
       "0      Male      No     Yes         Caucasian       Low 34.00   14.89   \n",
       "1    Female     Yes     Yes             Asian   Premium 82.00  106.03   \n",
       "2      Male      No      No             Asian   Premium 71.00  104.59   \n",
       "3    Female      No      No             Asian   Premium 36.00  148.92   \n",
       "4      Male      No     Yes         Caucasian    Medium 68.00   55.88   \n",
       "..      ...     ...     ...               ...       ...   ...     ...   \n",
       "395    Male      No     Yes         Caucasian    Medium 32.00   12.10   \n",
       "396    Male      No      No  African American       Low 65.00   13.36   \n",
       "397  Female      No     Yes         Caucasian    Medium 67.00   57.87   \n",
       "398    Male      No     Yes         Caucasian  Very low 44.00   37.73   \n",
       "399  Female      No      No             Asian      High 64.00   18.70   \n",
       "\n",
       "     Education Years  \n",
       "0                 11  \n",
       "1                 15  \n",
       "2                 11  \n",
       "3                 11  \n",
       "4                 16  \n",
       "..               ...  \n",
       "395               13  \n",
       "396               17  \n",
       "397               12  \n",
       "398               13  \n",
       "399                7  \n",
       "\n",
       "[361 rows x 8 columns]"
      ]
     },
     "execution_count": 32,
     "metadata": {},
     "output_type": "execute_result"
    }
   ],
   "source": [
    "df.dropna()"
   ]
  },
  {
   "cell_type": "markdown",
   "metadata": {},
   "source": [
    "**To impute the missing values in pandas we can use the method ```fillna``` studied in the previous module**  \n",
    "In this case, we use the mode to impute the Rating column and the mean to impute the Age column."
   ]
  },
  {
   "cell_type": "code",
   "execution_count": 33,
   "metadata": {},
   "outputs": [
    {
     "name": "stdout",
     "output_type": "stream",
     "text": [
      "Rating mode: 'Low', Age mean: 56.0079\n"
     ]
    }
   ],
   "source": [
    "rating_mode = df[\"Rating\"].mode()[0]\n",
    "age_mean = df[\"Age\"].mean()\n",
    "\n",
    "print(f\"Rating mode: '{rating_mode}', Age mean: {age_mean:.4f}\")"
   ]
  },
  {
   "cell_type": "code",
   "execution_count": 34,
   "metadata": {},
   "outputs": [
    {
     "data": {
      "text/html": [
       "<div>\n",
       "<style scoped>\n",
       "    .dataframe tbody tr th:only-of-type {\n",
       "        vertical-align: middle;\n",
       "    }\n",
       "\n",
       "    .dataframe tbody tr th {\n",
       "        vertical-align: top;\n",
       "    }\n",
       "\n",
       "    .dataframe thead th {\n",
       "        text-align: right;\n",
       "    }\n",
       "</style>\n",
       "<table border=\"1\" class=\"dataframe\">\n",
       "  <thead>\n",
       "    <tr style=\"text-align: right;\">\n",
       "      <th></th>\n",
       "      <th>Gender</th>\n",
       "      <th>Student</th>\n",
       "      <th>Married</th>\n",
       "      <th>Ethnicity</th>\n",
       "      <th>Rating</th>\n",
       "      <th>Age</th>\n",
       "      <th>Income</th>\n",
       "      <th>Education Years</th>\n",
       "    </tr>\n",
       "  </thead>\n",
       "  <tbody>\n",
       "    <tr>\n",
       "      <th>0</th>\n",
       "      <td>Male</td>\n",
       "      <td>No</td>\n",
       "      <td>Yes</td>\n",
       "      <td>Caucasian</td>\n",
       "      <td>Low</td>\n",
       "      <td>34.00</td>\n",
       "      <td>14.89</td>\n",
       "      <td>11</td>\n",
       "    </tr>\n",
       "    <tr>\n",
       "      <th>1</th>\n",
       "      <td>Female</td>\n",
       "      <td>Yes</td>\n",
       "      <td>Yes</td>\n",
       "      <td>Asian</td>\n",
       "      <td>Premium</td>\n",
       "      <td>82.00</td>\n",
       "      <td>106.03</td>\n",
       "      <td>15</td>\n",
       "    </tr>\n",
       "    <tr>\n",
       "      <th>2</th>\n",
       "      <td>Male</td>\n",
       "      <td>No</td>\n",
       "      <td>No</td>\n",
       "      <td>Asian</td>\n",
       "      <td>Premium</td>\n",
       "      <td>71.00</td>\n",
       "      <td>104.59</td>\n",
       "      <td>11</td>\n",
       "    </tr>\n",
       "    <tr>\n",
       "      <th>3</th>\n",
       "      <td>Female</td>\n",
       "      <td>No</td>\n",
       "      <td>No</td>\n",
       "      <td>Asian</td>\n",
       "      <td>Premium</td>\n",
       "      <td>36.00</td>\n",
       "      <td>148.92</td>\n",
       "      <td>11</td>\n",
       "    </tr>\n",
       "    <tr>\n",
       "      <th>4</th>\n",
       "      <td>Male</td>\n",
       "      <td>No</td>\n",
       "      <td>Yes</td>\n",
       "      <td>Caucasian</td>\n",
       "      <td>Medium</td>\n",
       "      <td>68.00</td>\n",
       "      <td>55.88</td>\n",
       "      <td>16</td>\n",
       "    </tr>\n",
       "    <tr>\n",
       "      <th>...</th>\n",
       "      <td>...</td>\n",
       "      <td>...</td>\n",
       "      <td>...</td>\n",
       "      <td>...</td>\n",
       "      <td>...</td>\n",
       "      <td>...</td>\n",
       "      <td>...</td>\n",
       "      <td>...</td>\n",
       "    </tr>\n",
       "    <tr>\n",
       "      <th>395</th>\n",
       "      <td>Male</td>\n",
       "      <td>No</td>\n",
       "      <td>Yes</td>\n",
       "      <td>Caucasian</td>\n",
       "      <td>Medium</td>\n",
       "      <td>32.00</td>\n",
       "      <td>12.10</td>\n",
       "      <td>13</td>\n",
       "    </tr>\n",
       "    <tr>\n",
       "      <th>396</th>\n",
       "      <td>Male</td>\n",
       "      <td>No</td>\n",
       "      <td>No</td>\n",
       "      <td>African American</td>\n",
       "      <td>Low</td>\n",
       "      <td>65.00</td>\n",
       "      <td>13.36</td>\n",
       "      <td>17</td>\n",
       "    </tr>\n",
       "    <tr>\n",
       "      <th>397</th>\n",
       "      <td>Female</td>\n",
       "      <td>No</td>\n",
       "      <td>Yes</td>\n",
       "      <td>Caucasian</td>\n",
       "      <td>Medium</td>\n",
       "      <td>67.00</td>\n",
       "      <td>57.87</td>\n",
       "      <td>12</td>\n",
       "    </tr>\n",
       "    <tr>\n",
       "      <th>398</th>\n",
       "      <td>Male</td>\n",
       "      <td>No</td>\n",
       "      <td>Yes</td>\n",
       "      <td>Caucasian</td>\n",
       "      <td>Very low</td>\n",
       "      <td>44.00</td>\n",
       "      <td>37.73</td>\n",
       "      <td>13</td>\n",
       "    </tr>\n",
       "    <tr>\n",
       "      <th>399</th>\n",
       "      <td>Female</td>\n",
       "      <td>No</td>\n",
       "      <td>No</td>\n",
       "      <td>Asian</td>\n",
       "      <td>High</td>\n",
       "      <td>64.00</td>\n",
       "      <td>18.70</td>\n",
       "      <td>7</td>\n",
       "    </tr>\n",
       "  </tbody>\n",
       "</table>\n",
       "<p>400 rows × 8 columns</p>\n",
       "</div>"
      ],
      "text/plain": [
       "     Gender Student Married         Ethnicity    Rating   Age  Income  \\\n",
       "0      Male      No     Yes         Caucasian       Low 34.00   14.89   \n",
       "1    Female     Yes     Yes             Asian   Premium 82.00  106.03   \n",
       "2      Male      No      No             Asian   Premium 71.00  104.59   \n",
       "3    Female      No      No             Asian   Premium 36.00  148.92   \n",
       "4      Male      No     Yes         Caucasian    Medium 68.00   55.88   \n",
       "..      ...     ...     ...               ...       ...   ...     ...   \n",
       "395    Male      No     Yes         Caucasian    Medium 32.00   12.10   \n",
       "396    Male      No      No  African American       Low 65.00   13.36   \n",
       "397  Female      No     Yes         Caucasian    Medium 67.00   57.87   \n",
       "398    Male      No     Yes         Caucasian  Very low 44.00   37.73   \n",
       "399  Female      No      No             Asian      High 64.00   18.70   \n",
       "\n",
       "     Education Years  \n",
       "0                 11  \n",
       "1                 15  \n",
       "2                 11  \n",
       "3                 11  \n",
       "4                 16  \n",
       "..               ...  \n",
       "395               13  \n",
       "396               17  \n",
       "397               12  \n",
       "398               13  \n",
       "399                7  \n",
       "\n",
       "[400 rows x 8 columns]"
      ]
     },
     "execution_count": 34,
     "metadata": {},
     "output_type": "execute_result"
    }
   ],
   "source": [
    "df.fillna({\"Rating\": rating_mode, \"Age\": age_mean})"
   ]
  },
  {
   "cell_type": "markdown",
   "metadata": {},
   "source": [
    "**Impute the missing values using scikit-learn**  \n",
    "Scikit-learn provide an imputer object to handle missing values with numerical and categorical data.  \n",
    "documentation: https://scikit-learn.org/stable/modules/generated/sklearn.impute.SimpleImputer.html"
   ]
  },
  {
   "cell_type": "markdown",
   "metadata": {},
   "source": [
    "**Definition of the variable age containing the values to impute**"
   ]
  },
  {
   "cell_type": "code",
   "execution_count": 35,
   "metadata": {},
   "outputs": [],
   "source": [
    "age = df[[\"Age\"]].values"
   ]
  },
  {
   "cell_type": "markdown",
   "metadata": {},
   "source": [
    "**Definition of the imputer**  \n",
    "Imputation of the missing values in the column Age using the mean value."
   ]
  },
  {
   "cell_type": "code",
   "execution_count": 36,
   "metadata": {},
   "outputs": [
    {
     "data": {
      "text/html": [
       "<style>div.sk-top-container {color: black;background-color: white;}div.sk-toggleable {background-color: white;}label.sk-toggleable__label {cursor: pointer;display: block;width: 100%;margin-bottom: 0;padding: 0.2em 0.3em;box-sizing: border-box;text-align: center;}div.sk-toggleable__content {max-height: 0;max-width: 0;overflow: hidden;text-align: left;background-color: #f0f8ff;}div.sk-toggleable__content pre {margin: 0.2em;color: black;border-radius: 0.25em;background-color: #f0f8ff;}input.sk-toggleable__control:checked~div.sk-toggleable__content {max-height: 200px;max-width: 100%;overflow: auto;}div.sk-estimator input.sk-toggleable__control:checked~label.sk-toggleable__label {background-color: #d4ebff;}div.sk-label input.sk-toggleable__control:checked~label.sk-toggleable__label {background-color: #d4ebff;}input.sk-hidden--visually {border: 0;clip: rect(1px 1px 1px 1px);clip: rect(1px, 1px, 1px, 1px);height: 1px;margin: -1px;overflow: hidden;padding: 0;position: absolute;width: 1px;}div.sk-estimator {font-family: monospace;background-color: #f0f8ff;margin: 0.25em 0.25em;border: 1px dotted black;border-radius: 0.25em;box-sizing: border-box;}div.sk-estimator:hover {background-color: #d4ebff;}div.sk-parallel-item::after {content: \"\";width: 100%;border-bottom: 1px solid gray;flex-grow: 1;}div.sk-label:hover label.sk-toggleable__label {background-color: #d4ebff;}div.sk-serial::before {content: \"\";position: absolute;border-left: 1px solid gray;box-sizing: border-box;top: 2em;bottom: 0;left: 50%;}div.sk-serial {display: flex;flex-direction: column;align-items: center;background-color: white;}div.sk-item {z-index: 1;}div.sk-parallel {display: flex;align-items: stretch;justify-content: center;background-color: white;}div.sk-parallel-item {display: flex;flex-direction: column;position: relative;background-color: white;}div.sk-parallel-item:first-child::after {align-self: flex-end;width: 50%;}div.sk-parallel-item:last-child::after {align-self: flex-start;width: 50%;}div.sk-parallel-item:only-child::after {width: 0;}div.sk-dashed-wrapped {border: 1px dashed gray;margin: 0.2em;box-sizing: border-box;padding-bottom: 0.1em;background-color: white;position: relative;}div.sk-label label {font-family: monospace;font-weight: bold;background-color: white;display: inline-block;line-height: 1.2em;}div.sk-label-container {position: relative;z-index: 2;text-align: center;}div.sk-container {display: inline-block;position: relative;}</style><div class=\"sk-top-container\"><div class=\"sk-container\"><div class=\"sk-item\"><div class=\"sk-estimator sk-toggleable\"><input class=\"sk-toggleable__control sk-hidden--visually\" id=\"5949d161-3cc4-4958-8cb6-cbb7692a6d09\" type=\"checkbox\" checked><label class=\"sk-toggleable__label\" for=\"5949d161-3cc4-4958-8cb6-cbb7692a6d09\">SimpleImputer</label><div class=\"sk-toggleable__content\"><pre>SimpleImputer(add_indicator=False, copy=True, fill_value=None,\n",
       "              missing_values=nan, strategy='mean', verbose=0)</pre></div></div></div></div></div>"
      ],
      "text/plain": [
       "SimpleImputer(add_indicator=False, copy=True, fill_value=None,\n",
       "              missing_values=nan, strategy='mean', verbose=0)"
      ]
     },
     "execution_count": 36,
     "metadata": {},
     "output_type": "execute_result"
    }
   ],
   "source": [
    "si = SimpleImputer()\n",
    "si"
   ]
  },
  {
   "cell_type": "markdown",
   "metadata": {},
   "source": [
    "**Fit and transform of the imputer to the data**"
   ]
  },
  {
   "cell_type": "code",
   "execution_count": 37,
   "metadata": {},
   "outputs": [
    {
     "data": {
      "text/plain": [
       "array([[34.],\n",
       "       [82.],\n",
       "       [71.],\n",
       "       [36.],\n",
       "       [68.],\n",
       "       [77.],\n",
       "       [37.],\n",
       "       [87.],\n",
       "       [66.],\n",
       "       [41.]])"
      ]
     },
     "execution_count": 37,
     "metadata": {},
     "output_type": "execute_result"
    }
   ],
   "source": [
    "age_imputed = si.fit_transform(age)\n",
    "age_imputed[:10, :]"
   ]
  },
  {
   "cell_type": "markdown",
   "metadata": {},
   "source": [
    "**Using the attribute ```statistics_``` is possibile to see the value used to impute the missing values**"
   ]
  },
  {
   "cell_type": "code",
   "execution_count": 38,
   "metadata": {
    "scrolled": true
   },
   "outputs": [
    {
     "data": {
      "text/plain": [
       "array([56.00789474])"
      ]
     },
     "execution_count": 38,
     "metadata": {},
     "output_type": "execute_result"
    }
   ],
   "source": [
    "si.statistics_"
   ]
  },
  {
   "cell_type": "markdown",
   "metadata": {},
   "source": [
    "**Imputation of the missing values in the Rating column**  \n",
    "We can impute the missing values in categorical columns setting the ```strategy=\"most_frequent\"```"
   ]
  },
  {
   "cell_type": "code",
   "execution_count": 39,
   "metadata": {},
   "outputs": [
    {
     "data": {
      "text/plain": [
       "array([['Low'],\n",
       "       ['Premium'],\n",
       "       ['Premium'],\n",
       "       ['Premium'],\n",
       "       ['Medium'],\n",
       "       ['Premium'],\n",
       "       ['Low'],\n",
       "       ['Premium'],\n",
       "       ['Low'],\n",
       "       ['Premium']], dtype=object)"
      ]
     },
     "execution_count": 39,
     "metadata": {},
     "output_type": "execute_result"
    }
   ],
   "source": [
    "rating = df[[\"Rating\"]].values\n",
    "si = SimpleImputer(strategy=\"most_frequent\")\n",
    "rating_imputed = si.fit_transform(rating)\n",
    "rating_imputed[:10, :]"
   ]
  },
  {
   "cell_type": "markdown",
   "metadata": {},
   "source": [
    "## <font color= \"red\"> Exercise </font>"
   ]
  },
  {
   "cell_type": "markdown",
   "metadata": {},
   "source": [
    "**Read the eterogeneus_data.csv file in the data folder, introduce missing values in two columns (one numerical and one categorical) and make all the trasformations required using one column transformer.**"
   ]
  }
 ],
 "metadata": {
  "kernelspec": {
   "display_name": "Python 3 (ipykernel)",
   "language": "python",
   "name": "python3"
  },
  "language_info": {
   "codemirror_mode": {
    "name": "ipython",
    "version": 3
   },
   "file_extension": ".py",
   "mimetype": "text/x-python",
   "name": "python",
   "nbconvert_exporter": "python",
   "pygments_lexer": "ipython3",
   "version": "3.9.7"
  }
 },
 "nbformat": 4,
 "nbformat_minor": 4
}
